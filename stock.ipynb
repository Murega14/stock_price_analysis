{
 "cells": [
  {
   "cell_type": "code",
   "execution_count": 1,
   "metadata": {},
   "outputs": [],
   "source": [
    "import pandas as pd\n",
    "import numpy as np\n",
    "import matplotlib.pyplot as plt\n",
    "%matplotlib inline\n",
    "import seaborn as sns\n",
    "from pandas_datareader.data import DataReader\n",
    "import yfinance as yf\n",
    "from pandas_datareader import data as pdr\n",
    "yf.pdr_override()\n",
    "from datetime import datetime\n"
   ]
  },
  {
   "cell_type": "code",
   "execution_count": 2,
   "metadata": {},
   "outputs": [
    {
     "name": "stdout",
     "output_type": "stream",
     "text": [
      "[*********************100%%**********************]  1 of 1 completed\n",
      "[*********************100%%**********************]  1 of 1 completed\n",
      "[*********************100%%**********************]  1 of 1 completed\n",
      "[*********************100%%**********************]  1 of 1 completed\n",
      "[*********************100%%**********************]  1 of 1 completed"
     ]
    },
    {
     "name": "stderr",
     "output_type": "stream",
     "text": [
      "\n",
      "1 Failed download:\n",
      "['FB']: Exception('%ticker%: No timezone found, symbol may be delisted')\n"
     ]
    },
    {
     "name": "stdout",
     "output_type": "stream",
     "text": [
      "\n"
     ]
    },
    {
     "name": "stderr",
     "output_type": "stream",
     "text": [
      "Failed to get ticker 'TSLA' reason: HTTPSConnectionPool(host='query2.finance.yahoo.com', port=443): Read timed out. (read timeout=10)\n"
     ]
    },
    {
     "name": "stdout",
     "output_type": "stream",
     "text": [
      "[*********************100%%**********************]  1 of 1 completed"
     ]
    },
    {
     "name": "stderr",
     "output_type": "stream",
     "text": [
      "\n",
      "1 Failed download:\n",
      "['TSLA']: Exception('%ticker%: No timezone found, symbol may be delisted')\n"
     ]
    },
    {
     "name": "stdout",
     "output_type": "stream",
     "text": [
      "\n",
      "[*********************100%%**********************]  1 of 1 completed\n",
      "[*********************100%%**********************]  1 of 1 completed"
     ]
    },
    {
     "name": "stderr",
     "output_type": "stream",
     "text": [
      "\n",
      "1 Failed download:\n",
      "['INTC']: Exception('%ticker%: No price data found, symbol may be delisted (1d 2022-10-19 00:00:00 -> 2023-10-19 22:42:39.410340)')\n"
     ]
    },
    {
     "name": "stdout",
     "output_type": "stream",
     "text": [
      "\n",
      "[*********************100%%**********************]  1 of 1 completed\n",
      "[*********************100%%**********************]  1 of 1 completed\n",
      "[*********************100%%**********************]  1 of 1 completed\n",
      "[*********************100%%**********************]  1 of 1 completed"
     ]
    },
    {
     "name": "stderr",
     "output_type": "stream",
     "text": [
      "\n",
      "1 Failed download:\n",
      "['NFL']: Exception('%ticker%: No price data found, symbol may be delisted (1d 2022-10-19 00:00:00 -> 2023-10-19 22:42:39.410340)')\n"
     ]
    },
    {
     "name": "stdout",
     "output_type": "stream",
     "text": [
      "\n"
     ]
    },
    {
     "name": "stderr",
     "output_type": "stream",
     "text": [
      "C:\\Users\\murega\\AppData\\Local\\Temp\\ipykernel_15896\\1694941624.py:21: FutureWarning: The behavior of array concatenation with empty entries is deprecated. In a future version, this will no longer exclude empty items when determining the result dtype. To retain the old behavior, exclude the empty entries before the concat operation.\n",
      "  df = pd.concat(company_list, axis=0)\n"
     ]
    },
    {
     "data": {
      "text/html": [
       "<div>\n",
       "<style scoped>\n",
       "    .dataframe tbody tr th:only-of-type {\n",
       "        vertical-align: middle;\n",
       "    }\n",
       "\n",
       "    .dataframe tbody tr th {\n",
       "        vertical-align: top;\n",
       "    }\n",
       "\n",
       "    .dataframe thead th {\n",
       "        text-align: right;\n",
       "    }\n",
       "</style>\n",
       "<table border=\"1\" class=\"dataframe\">\n",
       "  <thead>\n",
       "    <tr style=\"text-align: right;\">\n",
       "      <th></th>\n",
       "      <th>Open</th>\n",
       "      <th>High</th>\n",
       "      <th>Low</th>\n",
       "      <th>Close</th>\n",
       "      <th>Adj Close</th>\n",
       "      <th>Volume</th>\n",
       "      <th>Name</th>\n",
       "    </tr>\n",
       "    <tr>\n",
       "      <th>Date</th>\n",
       "      <th></th>\n",
       "      <th></th>\n",
       "      <th></th>\n",
       "      <th></th>\n",
       "      <th></th>\n",
       "      <th></th>\n",
       "      <th></th>\n",
       "    </tr>\n",
       "  </thead>\n",
       "  <tbody>\n",
       "    <tr>\n",
       "      <th>2022-10-19</th>\n",
       "      <td>141.690002</td>\n",
       "      <td>144.949997</td>\n",
       "      <td>141.500000</td>\n",
       "      <td>143.860001</td>\n",
       "      <td>143.011597</td>\n",
       "      <td>61758300.0</td>\n",
       "      <td>APPLE</td>\n",
       "    </tr>\n",
       "    <tr>\n",
       "      <th>2022-10-20</th>\n",
       "      <td>143.020004</td>\n",
       "      <td>145.889999</td>\n",
       "      <td>142.649994</td>\n",
       "      <td>143.389999</td>\n",
       "      <td>142.544373</td>\n",
       "      <td>64522000.0</td>\n",
       "      <td>APPLE</td>\n",
       "    </tr>\n",
       "    <tr>\n",
       "      <th>2022-10-21</th>\n",
       "      <td>142.869995</td>\n",
       "      <td>147.850006</td>\n",
       "      <td>142.649994</td>\n",
       "      <td>147.270004</td>\n",
       "      <td>146.401505</td>\n",
       "      <td>86548600.0</td>\n",
       "      <td>APPLE</td>\n",
       "    </tr>\n",
       "    <tr>\n",
       "      <th>2022-10-24</th>\n",
       "      <td>147.190002</td>\n",
       "      <td>150.229996</td>\n",
       "      <td>146.000000</td>\n",
       "      <td>149.449997</td>\n",
       "      <td>148.568634</td>\n",
       "      <td>75981900.0</td>\n",
       "      <td>APPLE</td>\n",
       "    </tr>\n",
       "    <tr>\n",
       "      <th>2022-10-25</th>\n",
       "      <td>150.089996</td>\n",
       "      <td>152.490005</td>\n",
       "      <td>149.360001</td>\n",
       "      <td>152.339996</td>\n",
       "      <td>151.441574</td>\n",
       "      <td>74732300.0</td>\n",
       "      <td>APPLE</td>\n",
       "    </tr>\n",
       "    <tr>\n",
       "      <th>...</th>\n",
       "      <td>...</td>\n",
       "      <td>...</td>\n",
       "      <td>...</td>\n",
       "      <td>...</td>\n",
       "      <td>...</td>\n",
       "      <td>...</td>\n",
       "      <td>...</td>\n",
       "    </tr>\n",
       "    <tr>\n",
       "      <th>2023-10-13</th>\n",
       "      <td>56.500000</td>\n",
       "      <td>56.880001</td>\n",
       "      <td>55.529999</td>\n",
       "      <td>55.750000</td>\n",
       "      <td>55.750000</td>\n",
       "      <td>12048500.0</td>\n",
       "      <td>PAYPAL</td>\n",
       "    </tr>\n",
       "    <tr>\n",
       "      <th>2023-10-16</th>\n",
       "      <td>56.110001</td>\n",
       "      <td>57.080002</td>\n",
       "      <td>55.810001</td>\n",
       "      <td>57.000000</td>\n",
       "      <td>57.000000</td>\n",
       "      <td>14267700.0</td>\n",
       "      <td>PAYPAL</td>\n",
       "    </tr>\n",
       "    <tr>\n",
       "      <th>2023-10-17</th>\n",
       "      <td>56.509998</td>\n",
       "      <td>57.590000</td>\n",
       "      <td>56.490002</td>\n",
       "      <td>57.160000</td>\n",
       "      <td>57.160000</td>\n",
       "      <td>10325200.0</td>\n",
       "      <td>PAYPAL</td>\n",
       "    </tr>\n",
       "    <tr>\n",
       "      <th>2023-10-18</th>\n",
       "      <td>56.529999</td>\n",
       "      <td>57.097000</td>\n",
       "      <td>55.705002</td>\n",
       "      <td>55.799999</td>\n",
       "      <td>55.799999</td>\n",
       "      <td>10514500.0</td>\n",
       "      <td>PAYPAL</td>\n",
       "    </tr>\n",
       "    <tr>\n",
       "      <th>2023-10-19</th>\n",
       "      <td>55.660000</td>\n",
       "      <td>56.400002</td>\n",
       "      <td>54.720001</td>\n",
       "      <td>54.730000</td>\n",
       "      <td>54.730000</td>\n",
       "      <td>13096648.0</td>\n",
       "      <td>PAYPAL</td>\n",
       "    </tr>\n",
       "  </tbody>\n",
       "</table>\n",
       "<p>2016 rows × 7 columns</p>\n",
       "</div>"
      ],
      "text/plain": [
       "                  Open        High         Low       Close   Adj Close  \\\n",
       "Date                                                                     \n",
       "2022-10-19  141.690002  144.949997  141.500000  143.860001  143.011597   \n",
       "2022-10-20  143.020004  145.889999  142.649994  143.389999  142.544373   \n",
       "2022-10-21  142.869995  147.850006  142.649994  147.270004  146.401505   \n",
       "2022-10-24  147.190002  150.229996  146.000000  149.449997  148.568634   \n",
       "2022-10-25  150.089996  152.490005  149.360001  152.339996  151.441574   \n",
       "...                ...         ...         ...         ...         ...   \n",
       "2023-10-13   56.500000   56.880001   55.529999   55.750000   55.750000   \n",
       "2023-10-16   56.110001   57.080002   55.810001   57.000000   57.000000   \n",
       "2023-10-17   56.509998   57.590000   56.490002   57.160000   57.160000   \n",
       "2023-10-18   56.529999   57.097000   55.705002   55.799999   55.799999   \n",
       "2023-10-19   55.660000   56.400002   54.720001   54.730000   54.730000   \n",
       "\n",
       "                Volume    Name  \n",
       "Date                            \n",
       "2022-10-19  61758300.0   APPLE  \n",
       "2022-10-20  64522000.0   APPLE  \n",
       "2022-10-21  86548600.0   APPLE  \n",
       "2022-10-24  75981900.0   APPLE  \n",
       "2022-10-25  74732300.0   APPLE  \n",
       "...                ...     ...  \n",
       "2023-10-13  12048500.0  PAYPAL  \n",
       "2023-10-16  14267700.0  PAYPAL  \n",
       "2023-10-17  10325200.0  PAYPAL  \n",
       "2023-10-18  10514500.0  PAYPAL  \n",
       "2023-10-19  13096648.0  PAYPAL  \n",
       "\n",
       "[2016 rows x 7 columns]"
      ]
     },
     "execution_count": 2,
     "metadata": {},
     "output_type": "execute_result"
    }
   ],
   "source": [
    "#list of companies to get data from\n",
    "import yfinance as yf\n",
    "companies = ['AAPL', 'GOOG', 'AMZN', 'MSFT', 'FB',\n",
    "              'TSLA', 'NVDA', 'INTC', 'CSCO', 'ADBE', 'PYPL', 'NFL']\n",
    "\n",
    "#setting a time range for the data\n",
    "end = datetime.now()\n",
    "start = datetime(end.year-1, end.month, end.day)\n",
    "#getting stock data\n",
    "for stock in companies:\n",
    "    globals()[stock] = yf.download(stock, start, end)\n",
    "\n",
    "company_list = [AAPL, GOOG, AMZN, MSFT, FB,\n",
    "              TSLA, NVDA, INTC, CSCO, ADBE, PYPL, NFL]\n",
    "company_name = [\"APPLE\", \"GOOGLE\", \"AMAZON\", \"MICROSOFT\", \"FACEBOOK\",\n",
    "                \"TESLA\", \"NVIDIA\", \"INTEL\", \"CISCO\", \"ADOBE\", \"PAYPAL\", \"NFLIX\"]\n",
    "\n",
    "for company, com_name in zip(company_list, company_name):\n",
    "    company['Name'] = com_name\n",
    "\n",
    "df = pd.concat(company_list, axis=0)\n",
    "df"
   ]
  },
  {
   "cell_type": "code",
   "execution_count": 3,
   "metadata": {},
   "outputs": [
    {
     "data": {
      "text/plain": [
       "array(['APPLE', 'GOOGLE', 'AMAZON', 'MICROSOFT', 'NVIDIA', 'CISCO',\n",
       "       'ADOBE', 'PAYPAL'], dtype=object)"
      ]
     },
     "execution_count": 3,
     "metadata": {},
     "output_type": "execute_result"
    }
   ],
   "source": [
    "#identifying the companies present in the dataset\n",
    "df['Name'].unique()"
   ]
  },
  {
   "cell_type": "code",
   "execution_count": 4,
   "metadata": {},
   "outputs": [
    {
     "data": {
      "text/plain": [
       "(2016, 7)"
      ]
     },
     "execution_count": 4,
     "metadata": {},
     "output_type": "execute_result"
    }
   ],
   "source": [
    "#getting the dataset shape\n",
    "df.shape"
   ]
  },
  {
   "cell_type": "code",
   "execution_count": 5,
   "metadata": {},
   "outputs": [
    {
     "name": "stdout",
     "output_type": "stream",
     "text": [
      "<class 'pandas.core.frame.DataFrame'>\n",
      "DatetimeIndex: 2016 entries, 2022-10-19 to 2023-10-19\n",
      "Data columns (total 7 columns):\n",
      " #   Column     Non-Null Count  Dtype  \n",
      "---  ------     --------------  -----  \n",
      " 0   Open       2016 non-null   float64\n",
      " 1   High       2016 non-null   float64\n",
      " 2   Low        2016 non-null   float64\n",
      " 3   Close      2016 non-null   float64\n",
      " 4   Adj Close  2016 non-null   float64\n",
      " 5   Volume     2016 non-null   float64\n",
      " 6   Name       2016 non-null   object \n",
      "dtypes: float64(6), object(1)\n",
      "memory usage: 234.3 KB\n"
     ]
    }
   ],
   "source": [
    "#getting information about the dataset\n",
    "df.info(memory_usage='deep')"
   ]
  },
  {
   "cell_type": "code",
   "execution_count": 6,
   "metadata": {},
   "outputs": [
    {
     "data": {
      "text/html": [
       "<div>\n",
       "<style scoped>\n",
       "    .dataframe tbody tr th:only-of-type {\n",
       "        vertical-align: middle;\n",
       "    }\n",
       "\n",
       "    .dataframe tbody tr th {\n",
       "        vertical-align: top;\n",
       "    }\n",
       "\n",
       "    .dataframe thead th {\n",
       "        text-align: right;\n",
       "    }\n",
       "</style>\n",
       "<table border=\"1\" class=\"dataframe\">\n",
       "  <thead>\n",
       "    <tr style=\"text-align: right;\">\n",
       "      <th></th>\n",
       "      <th>count</th>\n",
       "      <th>mean</th>\n",
       "      <th>std</th>\n",
       "      <th>min</th>\n",
       "      <th>25%</th>\n",
       "      <th>50%</th>\n",
       "      <th>75%</th>\n",
       "      <th>max</th>\n",
       "    </tr>\n",
       "  </thead>\n",
       "  <tbody>\n",
       "    <tr>\n",
       "      <th>Open</th>\n",
       "      <td>2016.0</td>\n",
       "      <td>1.889962e+02</td>\n",
       "      <td>1.339050e+02</td>\n",
       "      <td>4.156000e+01</td>\n",
       "      <td>8.551750e+01</td>\n",
       "      <td>1.373900e+02</td>\n",
       "      <td>2.838550e+02</td>\n",
       "      <td>5.689000e+02</td>\n",
       "    </tr>\n",
       "    <tr>\n",
       "      <th>High</th>\n",
       "      <td>2016.0</td>\n",
       "      <td>1.916041e+02</td>\n",
       "      <td>1.358296e+02</td>\n",
       "      <td>4.224000e+01</td>\n",
       "      <td>8.716750e+01</td>\n",
       "      <td>1.387000e+02</td>\n",
       "      <td>2.872500e+02</td>\n",
       "      <td>5.744000e+02</td>\n",
       "    </tr>\n",
       "    <tr>\n",
       "      <th>Low</th>\n",
       "      <td>2016.0</td>\n",
       "      <td>1.866701e+02</td>\n",
       "      <td>1.321982e+02</td>\n",
       "      <td>4.146000e+01</td>\n",
       "      <td>8.414250e+01</td>\n",
       "      <td>1.353800e+02</td>\n",
       "      <td>2.809925e+02</td>\n",
       "      <td>5.585200e+02</td>\n",
       "    </tr>\n",
       "    <tr>\n",
       "      <th>Close</th>\n",
       "      <td>2016.0</td>\n",
       "      <td>1.892421e+02</td>\n",
       "      <td>1.340679e+02</td>\n",
       "      <td>4.171000e+01</td>\n",
       "      <td>8.561000e+01</td>\n",
       "      <td>1.374250e+02</td>\n",
       "      <td>2.841225e+02</td>\n",
       "      <td>5.648800e+02</td>\n",
       "    </tr>\n",
       "    <tr>\n",
       "      <th>Adj Close</th>\n",
       "      <td>2016.0</td>\n",
       "      <td>1.889550e+02</td>\n",
       "      <td>1.341076e+02</td>\n",
       "      <td>4.046949e+01</td>\n",
       "      <td>8.561000e+01</td>\n",
       "      <td>1.373171e+02</td>\n",
       "      <td>2.831771e+02</td>\n",
       "      <td>5.648800e+02</td>\n",
       "    </tr>\n",
       "    <tr>\n",
       "      <th>Volume</th>\n",
       "      <td>2016.0</td>\n",
       "      <td>3.383055e+07</td>\n",
       "      <td>2.645094e+07</td>\n",
       "      <td>1.197800e+06</td>\n",
       "      <td>1.497008e+07</td>\n",
       "      <td>2.586570e+07</td>\n",
       "      <td>4.935508e+07</td>\n",
       "      <td>2.231334e+08</td>\n",
       "    </tr>\n",
       "  </tbody>\n",
       "</table>\n",
       "</div>"
      ],
      "text/plain": [
       "            count          mean           std           min           25%  \\\n",
       "Open       2016.0  1.889962e+02  1.339050e+02  4.156000e+01  8.551750e+01   \n",
       "High       2016.0  1.916041e+02  1.358296e+02  4.224000e+01  8.716750e+01   \n",
       "Low        2016.0  1.866701e+02  1.321982e+02  4.146000e+01  8.414250e+01   \n",
       "Close      2016.0  1.892421e+02  1.340679e+02  4.171000e+01  8.561000e+01   \n",
       "Adj Close  2016.0  1.889550e+02  1.341076e+02  4.046949e+01  8.561000e+01   \n",
       "Volume     2016.0  3.383055e+07  2.645094e+07  1.197800e+06  1.497008e+07   \n",
       "\n",
       "                    50%           75%           max  \n",
       "Open       1.373900e+02  2.838550e+02  5.689000e+02  \n",
       "High       1.387000e+02  2.872500e+02  5.744000e+02  \n",
       "Low        1.353800e+02  2.809925e+02  5.585200e+02  \n",
       "Close      1.374250e+02  2.841225e+02  5.648800e+02  \n",
       "Adj Close  1.373171e+02  2.831771e+02  5.648800e+02  \n",
       "Volume     2.586570e+07  4.935508e+07  2.231334e+08  "
      ]
     },
     "execution_count": 6,
     "metadata": {},
     "output_type": "execute_result"
    }
   ],
   "source": [
    "#getting the summary statistics\n",
    "df.describe().T"
   ]
  },
  {
   "cell_type": "code",
   "execution_count": null,
   "metadata": {},
   "outputs": [],
   "source": []
  }
 ],
 "metadata": {
  "kernelspec": {
   "display_name": "Python 3",
   "language": "python",
   "name": "python3"
  },
  "language_info": {
   "codemirror_mode": {
    "name": "ipython",
    "version": 3
   },
   "file_extension": ".py",
   "mimetype": "text/x-python",
   "name": "python",
   "nbconvert_exporter": "python",
   "pygments_lexer": "ipython3",
   "version": "3.11.5"
  }
 },
 "nbformat": 4,
 "nbformat_minor": 2
}
