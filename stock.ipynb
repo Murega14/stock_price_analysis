{
 "cells": [
  {
   "cell_type": "code",
   "execution_count": 7,
   "metadata": {},
   "outputs": [],
   "source": [
    "import pandas as pd\n",
    "import numpy as np\n",
    "import matplotlib.pyplot as plt\n",
    "%matplotlib inline\n",
    "import seaborn as sns\n",
    "from pandas_datareader.data import DataReader\n",
    "import yfinance as yf\n",
    "from pandas_datareader import data as pdr\n",
    "yf.pdr_override()\n",
    "from datetime import datetime\n"
   ]
  },
  {
   "cell_type": "code",
   "execution_count": 8,
   "metadata": {},
   "outputs": [
    {
     "name": "stdout",
     "output_type": "stream",
     "text": [
      "[*********************100%%**********************]  1 of 1 completed\n",
      "[*********************100%%**********************]  1 of 1 completed"
     ]
    },
    {
     "name": "stderr",
     "output_type": "stream",
     "text": [
      "\n",
      "1 Failed download:\n",
      "['GOOG']: Exception('%ticker%: No price data found, symbol may be delisted (1d 2022-10-20 00:00:00 -> 2023-10-20 15:15:55.153287)')\n"
     ]
    },
    {
     "name": "stdout",
     "output_type": "stream",
     "text": [
      "\n",
      "[*********************100%%**********************]  1 of 1 completed\n",
      "[*********************100%%**********************]  1 of 1 completed\n",
      "[*********************100%%**********************]  1 of 1 completed"
     ]
    },
    {
     "name": "stderr",
     "output_type": "stream",
     "text": [
      "\n",
      "1 Failed download:\n",
      "['FB']: Exception('%ticker%: No timezone found, symbol may be delisted')\n"
     ]
    },
    {
     "name": "stdout",
     "output_type": "stream",
     "text": [
      "\n",
      "[*********************100%%**********************]  1 of 1 completed\n",
      "[*********************100%%**********************]  1 of 1 completed\n",
      "[*********************100%%**********************]  1 of 1 completed"
     ]
    },
    {
     "name": "stderr",
     "output_type": "stream",
     "text": [
      "\n",
      "1 Failed download:\n",
      "['INTC']: Exception('%ticker%: No price data found, symbol may be delisted (1d 2022-10-20 00:00:00 -> 2023-10-20 15:15:55.153287)')\n"
     ]
    },
    {
     "name": "stdout",
     "output_type": "stream",
     "text": [
      "\n",
      "[*********************100%%**********************]  1 of 1 completed"
     ]
    },
    {
     "name": "stderr",
     "output_type": "stream",
     "text": [
      "\n",
      "1 Failed download:\n",
      "['CSCO']: Exception('%ticker%: No price data found, symbol may be delisted (1d 2022-10-20 00:00:00 -> 2023-10-20 15:15:55.153287)')\n"
     ]
    },
    {
     "name": "stdout",
     "output_type": "stream",
     "text": [
      "\n",
      "[*********************100%%**********************]  1 of 1 completed"
     ]
    },
    {
     "name": "stderr",
     "output_type": "stream",
     "text": [
      "\n",
      "1 Failed download:\n",
      "['ADBE']: Exception('%ticker%: No price data found, symbol may be delisted (1d 2022-10-20 00:00:00 -> 2023-10-20 15:15:55.153287)')\n"
     ]
    },
    {
     "name": "stdout",
     "output_type": "stream",
     "text": [
      "\n",
      "[*********************100%%**********************]  1 of 1 completed\n",
      "[*********************100%%**********************]  1 of 1 completed"
     ]
    },
    {
     "name": "stderr",
     "output_type": "stream",
     "text": [
      "\n",
      "1 Failed download:\n",
      "['NFL']: Exception('%ticker%: No price data found, symbol may be delisted (1d 2022-10-20 00:00:00 -> 2023-10-20 15:15:55.153287)')\n"
     ]
    },
    {
     "name": "stdout",
     "output_type": "stream",
     "text": [
      "\n"
     ]
    },
    {
     "name": "stderr",
     "output_type": "stream",
     "text": [
      "C:\\Users\\murega\\AppData\\Local\\Temp\\ipykernel_9392\\1694941624.py:21: FutureWarning: The behavior of array concatenation with empty entries is deprecated. In a future version, this will no longer exclude empty items when determining the result dtype. To retain the old behavior, exclude the empty entries before the concat operation.\n",
      "  df = pd.concat(company_list, axis=0)\n"
     ]
    },
    {
     "data": {
      "text/html": [
       "<div>\n",
       "<style scoped>\n",
       "    .dataframe tbody tr th:only-of-type {\n",
       "        vertical-align: middle;\n",
       "    }\n",
       "\n",
       "    .dataframe tbody tr th {\n",
       "        vertical-align: top;\n",
       "    }\n",
       "\n",
       "    .dataframe thead th {\n",
       "        text-align: right;\n",
       "    }\n",
       "</style>\n",
       "<table border=\"1\" class=\"dataframe\">\n",
       "  <thead>\n",
       "    <tr style=\"text-align: right;\">\n",
       "      <th></th>\n",
       "      <th>Open</th>\n",
       "      <th>High</th>\n",
       "      <th>Low</th>\n",
       "      <th>Close</th>\n",
       "      <th>Adj Close</th>\n",
       "      <th>Volume</th>\n",
       "      <th>Name</th>\n",
       "    </tr>\n",
       "    <tr>\n",
       "      <th>Date</th>\n",
       "      <th></th>\n",
       "      <th></th>\n",
       "      <th></th>\n",
       "      <th></th>\n",
       "      <th></th>\n",
       "      <th></th>\n",
       "      <th></th>\n",
       "    </tr>\n",
       "  </thead>\n",
       "  <tbody>\n",
       "    <tr>\n",
       "      <th>2022-10-20</th>\n",
       "      <td>143.020004</td>\n",
       "      <td>145.889999</td>\n",
       "      <td>142.649994</td>\n",
       "      <td>143.389999</td>\n",
       "      <td>142.544373</td>\n",
       "      <td>64522000.0</td>\n",
       "      <td>APPLE</td>\n",
       "    </tr>\n",
       "    <tr>\n",
       "      <th>2022-10-21</th>\n",
       "      <td>142.869995</td>\n",
       "      <td>147.850006</td>\n",
       "      <td>142.649994</td>\n",
       "      <td>147.270004</td>\n",
       "      <td>146.401505</td>\n",
       "      <td>86548600.0</td>\n",
       "      <td>APPLE</td>\n",
       "    </tr>\n",
       "    <tr>\n",
       "      <th>2022-10-24</th>\n",
       "      <td>147.190002</td>\n",
       "      <td>150.229996</td>\n",
       "      <td>146.000000</td>\n",
       "      <td>149.449997</td>\n",
       "      <td>148.568634</td>\n",
       "      <td>75981900.0</td>\n",
       "      <td>APPLE</td>\n",
       "    </tr>\n",
       "    <tr>\n",
       "      <th>2022-10-25</th>\n",
       "      <td>150.089996</td>\n",
       "      <td>152.490005</td>\n",
       "      <td>149.360001</td>\n",
       "      <td>152.339996</td>\n",
       "      <td>151.441605</td>\n",
       "      <td>74732300.0</td>\n",
       "      <td>APPLE</td>\n",
       "    </tr>\n",
       "    <tr>\n",
       "      <th>2022-10-26</th>\n",
       "      <td>150.960007</td>\n",
       "      <td>151.990005</td>\n",
       "      <td>148.039993</td>\n",
       "      <td>149.350006</td>\n",
       "      <td>148.469223</td>\n",
       "      <td>88194300.0</td>\n",
       "      <td>APPLE</td>\n",
       "    </tr>\n",
       "    <tr>\n",
       "      <th>...</th>\n",
       "      <td>...</td>\n",
       "      <td>...</td>\n",
       "      <td>...</td>\n",
       "      <td>...</td>\n",
       "      <td>...</td>\n",
       "      <td>...</td>\n",
       "      <td>...</td>\n",
       "    </tr>\n",
       "    <tr>\n",
       "      <th>2023-10-13</th>\n",
       "      <td>56.500000</td>\n",
       "      <td>56.880001</td>\n",
       "      <td>55.529999</td>\n",
       "      <td>55.750000</td>\n",
       "      <td>55.750000</td>\n",
       "      <td>12048500.0</td>\n",
       "      <td>PAYPAL</td>\n",
       "    </tr>\n",
       "    <tr>\n",
       "      <th>2023-10-16</th>\n",
       "      <td>56.110001</td>\n",
       "      <td>57.080002</td>\n",
       "      <td>55.810001</td>\n",
       "      <td>57.000000</td>\n",
       "      <td>57.000000</td>\n",
       "      <td>14267700.0</td>\n",
       "      <td>PAYPAL</td>\n",
       "    </tr>\n",
       "    <tr>\n",
       "      <th>2023-10-17</th>\n",
       "      <td>56.509998</td>\n",
       "      <td>57.590000</td>\n",
       "      <td>56.490002</td>\n",
       "      <td>57.160000</td>\n",
       "      <td>57.160000</td>\n",
       "      <td>10325200.0</td>\n",
       "      <td>PAYPAL</td>\n",
       "    </tr>\n",
       "    <tr>\n",
       "      <th>2023-10-18</th>\n",
       "      <td>56.529999</td>\n",
       "      <td>57.097000</td>\n",
       "      <td>55.705002</td>\n",
       "      <td>55.799999</td>\n",
       "      <td>55.799999</td>\n",
       "      <td>10514500.0</td>\n",
       "      <td>PAYPAL</td>\n",
       "    </tr>\n",
       "    <tr>\n",
       "      <th>2023-10-19</th>\n",
       "      <td>55.660000</td>\n",
       "      <td>56.400002</td>\n",
       "      <td>54.700001</td>\n",
       "      <td>54.810001</td>\n",
       "      <td>54.810001</td>\n",
       "      <td>16267100.0</td>\n",
       "      <td>PAYPAL</td>\n",
       "    </tr>\n",
       "  </tbody>\n",
       "</table>\n",
       "<p>1506 rows × 7 columns</p>\n",
       "</div>"
      ],
      "text/plain": [
       "                  Open        High         Low       Close   Adj Close  \\\n",
       "Date                                                                     \n",
       "2022-10-20  143.020004  145.889999  142.649994  143.389999  142.544373   \n",
       "2022-10-21  142.869995  147.850006  142.649994  147.270004  146.401505   \n",
       "2022-10-24  147.190002  150.229996  146.000000  149.449997  148.568634   \n",
       "2022-10-25  150.089996  152.490005  149.360001  152.339996  151.441605   \n",
       "2022-10-26  150.960007  151.990005  148.039993  149.350006  148.469223   \n",
       "...                ...         ...         ...         ...         ...   \n",
       "2023-10-13   56.500000   56.880001   55.529999   55.750000   55.750000   \n",
       "2023-10-16   56.110001   57.080002   55.810001   57.000000   57.000000   \n",
       "2023-10-17   56.509998   57.590000   56.490002   57.160000   57.160000   \n",
       "2023-10-18   56.529999   57.097000   55.705002   55.799999   55.799999   \n",
       "2023-10-19   55.660000   56.400002   54.700001   54.810001   54.810001   \n",
       "\n",
       "                Volume    Name  \n",
       "Date                            \n",
       "2022-10-20  64522000.0   APPLE  \n",
       "2022-10-21  86548600.0   APPLE  \n",
       "2022-10-24  75981900.0   APPLE  \n",
       "2022-10-25  74732300.0   APPLE  \n",
       "2022-10-26  88194300.0   APPLE  \n",
       "...                ...     ...  \n",
       "2023-10-13  12048500.0  PAYPAL  \n",
       "2023-10-16  14267700.0  PAYPAL  \n",
       "2023-10-17  10325200.0  PAYPAL  \n",
       "2023-10-18  10514500.0  PAYPAL  \n",
       "2023-10-19  16267100.0  PAYPAL  \n",
       "\n",
       "[1506 rows x 7 columns]"
      ]
     },
     "execution_count": 8,
     "metadata": {},
     "output_type": "execute_result"
    }
   ],
   "source": [
    "#list of companies to get data from\n",
    "import yfinance as yf\n",
    "companies = ['AAPL', 'GOOG', 'AMZN', 'MSFT', 'FB',\n",
    "              'TSLA', 'NVDA', 'INTC', 'CSCO', 'ADBE', 'PYPL', 'NFL']\n",
    "\n",
    "#setting a time range for the data\n",
    "end = datetime.now()\n",
    "start = datetime(end.year-1, end.month, end.day)\n",
    "#getting stock data\n",
    "for stock in companies:\n",
    "    globals()[stock] = yf.download(stock, start, end)\n",
    "\n",
    "company_list = [AAPL, GOOG, AMZN, MSFT, FB,\n",
    "              TSLA, NVDA, INTC, CSCO, ADBE, PYPL, NFL]\n",
    "company_name = [\"APPLE\", \"GOOGLE\", \"AMAZON\", \"MICROSOFT\", \"FACEBOOK\",\n",
    "                \"TESLA\", \"NVIDIA\", \"INTEL\", \"CISCO\", \"ADOBE\", \"PAYPAL\", \"NFLIX\"]\n",
    "\n",
    "for company, com_name in zip(company_list, company_name):\n",
    "    company['Name'] = com_name\n",
    "\n",
    "df = pd.concat(company_list, axis=0)\n",
    "df"
   ]
  },
  {
   "cell_type": "code",
   "execution_count": 9,
   "metadata": {},
   "outputs": [
    {
     "data": {
      "text/plain": [
       "array(['APPLE', 'AMAZON', 'MICROSOFT', 'TESLA', 'NVIDIA', 'PAYPAL'],\n",
       "      dtype=object)"
      ]
     },
     "execution_count": 9,
     "metadata": {},
     "output_type": "execute_result"
    }
   ],
   "source": [
    "#identifying the companies present in the dataset\n",
    "df['Name'].unique()"
   ]
  },
  {
   "cell_type": "code",
   "execution_count": 10,
   "metadata": {},
   "outputs": [
    {
     "data": {
      "text/plain": [
       "(1506, 7)"
      ]
     },
     "execution_count": 10,
     "metadata": {},
     "output_type": "execute_result"
    }
   ],
   "source": [
    "#getting the dataset shape\n",
    "df.shape"
   ]
  },
  {
   "cell_type": "code",
   "execution_count": 11,
   "metadata": {},
   "outputs": [
    {
     "name": "stdout",
     "output_type": "stream",
     "text": [
      "<class 'pandas.core.frame.DataFrame'>\n",
      "DatetimeIndex: 1506 entries, 2022-10-20 to 2023-10-19\n",
      "Data columns (total 7 columns):\n",
      " #   Column     Non-Null Count  Dtype  \n",
      "---  ------     --------------  -----  \n",
      " 0   Open       1506 non-null   float64\n",
      " 1   High       1506 non-null   float64\n",
      " 2   Low        1506 non-null   float64\n",
      " 3   Close      1506 non-null   float64\n",
      " 4   Adj Close  1506 non-null   float64\n",
      " 5   Volume     1506 non-null   float64\n",
      " 6   Name       1506 non-null   object \n",
      "dtypes: float64(6), object(1)\n",
      "memory usage: 175.3 KB\n"
     ]
    }
   ],
   "source": [
    "#getting information about the dataset\n",
    "df.info(memory_usage='deep')"
   ]
  },
  {
   "cell_type": "code",
   "execution_count": 12,
   "metadata": {},
   "outputs": [
    {
     "data": {
      "text/html": [
       "<div>\n",
       "<style scoped>\n",
       "    .dataframe tbody tr th:only-of-type {\n",
       "        vertical-align: middle;\n",
       "    }\n",
       "\n",
       "    .dataframe tbody tr th {\n",
       "        vertical-align: top;\n",
       "    }\n",
       "\n",
       "    .dataframe thead th {\n",
       "        text-align: right;\n",
       "    }\n",
       "</style>\n",
       "<table border=\"1\" class=\"dataframe\">\n",
       "  <thead>\n",
       "    <tr style=\"text-align: right;\">\n",
       "      <th></th>\n",
       "      <th>count</th>\n",
       "      <th>mean</th>\n",
       "      <th>std</th>\n",
       "      <th>min</th>\n",
       "      <th>25%</th>\n",
       "      <th>50%</th>\n",
       "      <th>75%</th>\n",
       "      <th>max</th>\n",
       "    </tr>\n",
       "  </thead>\n",
       "  <tbody>\n",
       "    <tr>\n",
       "      <th>Open</th>\n",
       "      <td>1506.0</td>\n",
       "      <td>1.909098e+02</td>\n",
       "      <td>1.023723e+02</td>\n",
       "      <td>5.566000e+01</td>\n",
       "      <td>1.050950e+02</td>\n",
       "      <td>1.718500e+02</td>\n",
       "      <td>2.536675e+02</td>\n",
       "      <td>5.021600e+02</td>\n",
       "    </tr>\n",
       "    <tr>\n",
       "      <th>High</th>\n",
       "      <td>1506.0</td>\n",
       "      <td>1.938389e+02</td>\n",
       "      <td>1.038355e+02</td>\n",
       "      <td>5.640000e+01</td>\n",
       "      <td>1.071300e+02</td>\n",
       "      <td>1.740450e+02</td>\n",
       "      <td>2.578800e+02</td>\n",
       "      <td>5.026600e+02</td>\n",
       "    </tr>\n",
       "    <tr>\n",
       "      <th>Low</th>\n",
       "      <td>1506.0</td>\n",
       "      <td>1.880909e+02</td>\n",
       "      <td>1.008706e+02</td>\n",
       "      <td>5.470000e+01</td>\n",
       "      <td>1.041575e+02</td>\n",
       "      <td>1.688150e+02</td>\n",
       "      <td>2.496150e+02</td>\n",
       "      <td>4.895800e+02</td>\n",
       "    </tr>\n",
       "    <tr>\n",
       "      <th>Close</th>\n",
       "      <td>1506.0</td>\n",
       "      <td>1.910882e+02</td>\n",
       "      <td>1.023725e+02</td>\n",
       "      <td>5.481000e+01</td>\n",
       "      <td>1.057025e+02</td>\n",
       "      <td>1.720150e+02</td>\n",
       "      <td>2.547500e+02</td>\n",
       "      <td>4.935500e+02</td>\n",
       "    </tr>\n",
       "    <tr>\n",
       "      <th>Adj Close</th>\n",
       "      <td>1506.0</td>\n",
       "      <td>1.908440e+02</td>\n",
       "      <td>1.022572e+02</td>\n",
       "      <td>5.481000e+01</td>\n",
       "      <td>1.057025e+02</td>\n",
       "      <td>1.718380e+02</td>\n",
       "      <td>2.538143e+02</td>\n",
       "      <td>4.935093e+02</td>\n",
       "    </tr>\n",
       "    <tr>\n",
       "      <th>Volume</th>\n",
       "      <td>1506.0</td>\n",
       "      <td>5.966872e+07</td>\n",
       "      <td>4.491408e+07</td>\n",
       "      <td>4.634500e+06</td>\n",
       "      <td>2.639712e+07</td>\n",
       "      <td>4.858100e+07</td>\n",
       "      <td>7.427285e+07</td>\n",
       "      <td>3.065906e+08</td>\n",
       "    </tr>\n",
       "  </tbody>\n",
       "</table>\n",
       "</div>"
      ],
      "text/plain": [
       "            count          mean           std           min           25%  \\\n",
       "Open       1506.0  1.909098e+02  1.023723e+02  5.566000e+01  1.050950e+02   \n",
       "High       1506.0  1.938389e+02  1.038355e+02  5.640000e+01  1.071300e+02   \n",
       "Low        1506.0  1.880909e+02  1.008706e+02  5.470000e+01  1.041575e+02   \n",
       "Close      1506.0  1.910882e+02  1.023725e+02  5.481000e+01  1.057025e+02   \n",
       "Adj Close  1506.0  1.908440e+02  1.022572e+02  5.481000e+01  1.057025e+02   \n",
       "Volume     1506.0  5.966872e+07  4.491408e+07  4.634500e+06  2.639712e+07   \n",
       "\n",
       "                    50%           75%           max  \n",
       "Open       1.718500e+02  2.536675e+02  5.021600e+02  \n",
       "High       1.740450e+02  2.578800e+02  5.026600e+02  \n",
       "Low        1.688150e+02  2.496150e+02  4.895800e+02  \n",
       "Close      1.720150e+02  2.547500e+02  4.935500e+02  \n",
       "Adj Close  1.718380e+02  2.538143e+02  4.935093e+02  \n",
       "Volume     4.858100e+07  7.427285e+07  3.065906e+08  "
      ]
     },
     "execution_count": 12,
     "metadata": {},
     "output_type": "execute_result"
    }
   ],
   "source": [
    "#getting the summary statistics\n",
    "df.describe().T"
   ]
  },
  {
   "cell_type": "code",
   "execution_count": null,
   "metadata": {},
   "outputs": [],
   "source": []
  }
 ],
 "metadata": {
  "kernelspec": {
   "display_name": "Python 3",
   "language": "python",
   "name": "python3"
  },
  "language_info": {
   "codemirror_mode": {
    "name": "ipython",
    "version": 3
   },
   "file_extension": ".py",
   "mimetype": "text/x-python",
   "name": "python",
   "nbconvert_exporter": "python",
   "pygments_lexer": "ipython3",
   "version": "3.11.5"
  }
 },
 "nbformat": 4,
 "nbformat_minor": 2
}
